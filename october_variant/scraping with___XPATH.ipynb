{
 "cells": [
  {
   "cell_type": "code",
   "execution_count": 19,
   "id": "d884307c-1ea1-41e1-87e6-12fa1e849713",
   "metadata": {},
   "outputs": [
    {
     "name": "stdout",
     "output_type": "stream",
     "text": [
      "Setup Complete\n"
     ]
    }
   ],
   "source": [
    "from selenium import webdriver\n",
    "from bs4 import BeautifulSoup\n",
    "import scrapy\n",
    "import lxml\n",
    "import urllib3\n",
    "import pandas as pd\n",
    "import numpy as np\n",
    "import requests\n",
    "import re \n",
    "from matplotlib import pyplot as plt\n",
    "import time\n",
    "import seaborn as sns\n",
    "import itertools\n",
    "urllib3.disable_warnings()\n",
    "print(\"Setup Complete\")"
   ]
  },
  {
   "cell_type": "code",
   "execution_count": 13,
   "id": "4b560547-922f-4bec-b5a6-2504ebc2a42d",
   "metadata": {},
   "outputs": [
    {
     "name": "stdout",
     "output_type": "stream",
     "text": [
      "CPU times: total: 40 s\n",
      "Wall time: 27min 22s\n"
     ]
    },
    {
     "data": {
      "text/plain": [
       "14976"
      ]
     },
     "execution_count": 13,
     "metadata": {},
     "output_type": "execute_result"
    }
   ],
   "source": [
    "%%time\n",
    "\n",
    "links_personal_auto=[]\n",
    "for x in range(1,417):\n",
    "    time.sleep(3)\n",
    "    url=f'https://turbo.az/autos?page={x}'\n",
    "    request=requests.get(url).content\n",
    "    soup=BeautifulSoup(request,'html.parser')\n",
    "    cars=soup.find_all('div',class_='products-i')\n",
    "    for i in cars:\n",
    "        links_personal_auto.append('https://turbo.az'+i.a['href'])  \n",
    "len(links_personal_auto)"
   ]
  },
  {
   "cell_type": "code",
   "execution_count": 15,
   "id": "e2fc8d3c-d42d-49c4-ad9e-821da6b060a0",
   "metadata": {},
   "outputs": [
    {
     "data": {
      "text/html": [
       "<div>\n",
       "<style scoped>\n",
       "    .dataframe tbody tr th:only-of-type {\n",
       "        vertical-align: middle;\n",
       "    }\n",
       "\n",
       "    .dataframe tbody tr th {\n",
       "        vertical-align: top;\n",
       "    }\n",
       "\n",
       "    .dataframe thead th {\n",
       "        text-align: right;\n",
       "    }\n",
       "</style>\n",
       "<table border=\"1\" class=\"dataframe\">\n",
       "  <thead>\n",
       "    <tr style=\"text-align: right;\">\n",
       "      <th></th>\n",
       "      <th>0</th>\n",
       "    </tr>\n",
       "  </thead>\n",
       "  <tbody>\n",
       "    <tr>\n",
       "      <th>0</th>\n",
       "      <td>https://turbo.az/autos/6741356-land-rover-rang...</td>\n",
       "    </tr>\n",
       "    <tr>\n",
       "      <th>1</th>\n",
       "      <td>https://turbo.az/autos/6474352-opel-crossland-x</td>\n",
       "    </tr>\n",
       "    <tr>\n",
       "      <th>2</th>\n",
       "      <td>https://turbo.az/autos/6673637-hyundai-veracruz</td>\n",
       "    </tr>\n",
       "    <tr>\n",
       "      <th>3</th>\n",
       "      <td>https://turbo.az/autos/6806177-porsche-panamera</td>\n",
       "    </tr>\n",
       "    <tr>\n",
       "      <th>4</th>\n",
       "      <td>https://turbo.az/autos/6627992-mitsubishi-outl...</td>\n",
       "    </tr>\n",
       "    <tr>\n",
       "      <th>...</th>\n",
       "      <td>...</td>\n",
       "    </tr>\n",
       "    <tr>\n",
       "      <th>14971</th>\n",
       "      <td>https://turbo.az/autos/6825182-kia-rio</td>\n",
       "    </tr>\n",
       "    <tr>\n",
       "      <th>14972</th>\n",
       "      <td>https://turbo.az/autos/6825179-mercedes-190</td>\n",
       "    </tr>\n",
       "    <tr>\n",
       "      <th>14973</th>\n",
       "      <td>https://turbo.az/autos/6825173-lada-vaz-niva</td>\n",
       "    </tr>\n",
       "    <tr>\n",
       "      <th>14974</th>\n",
       "      <td>https://turbo.az/autos/6825178-lexus-es-300h</td>\n",
       "    </tr>\n",
       "    <tr>\n",
       "      <th>14975</th>\n",
       "      <td>https://turbo.az/autos/6777087-toyota-corolla</td>\n",
       "    </tr>\n",
       "  </tbody>\n",
       "</table>\n",
       "<p>14976 rows × 1 columns</p>\n",
       "</div>"
      ],
      "text/plain": [
       "                                                       0\n",
       "0      https://turbo.az/autos/6741356-land-rover-rang...\n",
       "1        https://turbo.az/autos/6474352-opel-crossland-x\n",
       "2        https://turbo.az/autos/6673637-hyundai-veracruz\n",
       "3        https://turbo.az/autos/6806177-porsche-panamera\n",
       "4      https://turbo.az/autos/6627992-mitsubishi-outl...\n",
       "...                                                  ...\n",
       "14971             https://turbo.az/autos/6825182-kia-rio\n",
       "14972        https://turbo.az/autos/6825179-mercedes-190\n",
       "14973       https://turbo.az/autos/6825173-lada-vaz-niva\n",
       "14974       https://turbo.az/autos/6825178-lexus-es-300h\n",
       "14975      https://turbo.az/autos/6777087-toyota-corolla\n",
       "\n",
       "[14976 rows x 1 columns]"
      ]
     },
     "execution_count": 15,
     "metadata": {},
     "output_type": "execute_result"
    }
   ],
   "source": [
    "link_19_11_2022=pd.DataFrame(links_personal_auto)\n",
    "link_19_11_2022"
   ]
  },
  {
   "cell_type": "code",
   "execution_count": 9,
   "id": "91ab011a-9f75-47be-b2af-da37b86990fb",
   "metadata": {},
   "outputs": [
    {
     "data": {
      "text/html": [
       "<div>\n",
       "<style scoped>\n",
       "    .dataframe tbody tr th:only-of-type {\n",
       "        vertical-align: middle;\n",
       "    }\n",
       "\n",
       "    .dataframe tbody tr th {\n",
       "        vertical-align: top;\n",
       "    }\n",
       "\n",
       "    .dataframe thead th {\n",
       "        text-align: right;\n",
       "    }\n",
       "</style>\n",
       "<table border=\"1\" class=\"dataframe\">\n",
       "  <thead>\n",
       "    <tr style=\"text-align: right;\">\n",
       "      <th></th>\n",
       "      <th>Unnamed: 0</th>\n",
       "      <th>0</th>\n",
       "    </tr>\n",
       "  </thead>\n",
       "  <tbody>\n",
       "    <tr>\n",
       "      <th>0</th>\n",
       "      <td>0</td>\n",
       "      <td>https://turbo.az/autos/6741356-land-rover-rang...</td>\n",
       "    </tr>\n",
       "    <tr>\n",
       "      <th>1</th>\n",
       "      <td>1</td>\n",
       "      <td>https://turbo.az/autos/6474352-opel-crossland-x</td>\n",
       "    </tr>\n",
       "    <tr>\n",
       "      <th>2</th>\n",
       "      <td>2</td>\n",
       "      <td>https://turbo.az/autos/6673637-hyundai-veracruz</td>\n",
       "    </tr>\n",
       "    <tr>\n",
       "      <th>3</th>\n",
       "      <td>3</td>\n",
       "      <td>https://turbo.az/autos/6806177-porsche-panamera</td>\n",
       "    </tr>\n",
       "    <tr>\n",
       "      <th>4</th>\n",
       "      <td>4</td>\n",
       "      <td>https://turbo.az/autos/6627992-mitsubishi-outl...</td>\n",
       "    </tr>\n",
       "    <tr>\n",
       "      <th>...</th>\n",
       "      <td>...</td>\n",
       "      <td>...</td>\n",
       "    </tr>\n",
       "    <tr>\n",
       "      <th>14971</th>\n",
       "      <td>14971</td>\n",
       "      <td>https://turbo.az/autos/6825182-kia-rio</td>\n",
       "    </tr>\n",
       "    <tr>\n",
       "      <th>14972</th>\n",
       "      <td>14972</td>\n",
       "      <td>https://turbo.az/autos/6825179-mercedes-190</td>\n",
       "    </tr>\n",
       "    <tr>\n",
       "      <th>14973</th>\n",
       "      <td>14973</td>\n",
       "      <td>https://turbo.az/autos/6825173-lada-vaz-niva</td>\n",
       "    </tr>\n",
       "    <tr>\n",
       "      <th>14974</th>\n",
       "      <td>14974</td>\n",
       "      <td>https://turbo.az/autos/6825178-lexus-es-300h</td>\n",
       "    </tr>\n",
       "    <tr>\n",
       "      <th>14975</th>\n",
       "      <td>14975</td>\n",
       "      <td>https://turbo.az/autos/6777087-toyota-corolla</td>\n",
       "    </tr>\n",
       "  </tbody>\n",
       "</table>\n",
       "<p>14976 rows × 2 columns</p>\n",
       "</div>"
      ],
      "text/plain": [
       "       Unnamed: 0                                                  0\n",
       "0               0  https://turbo.az/autos/6741356-land-rover-rang...\n",
       "1               1    https://turbo.az/autos/6474352-opel-crossland-x\n",
       "2               2    https://turbo.az/autos/6673637-hyundai-veracruz\n",
       "3               3    https://turbo.az/autos/6806177-porsche-panamera\n",
       "4               4  https://turbo.az/autos/6627992-mitsubishi-outl...\n",
       "...           ...                                                ...\n",
       "14971       14971             https://turbo.az/autos/6825182-kia-rio\n",
       "14972       14972        https://turbo.az/autos/6825179-mercedes-190\n",
       "14973       14973       https://turbo.az/autos/6825173-lada-vaz-niva\n",
       "14974       14974       https://turbo.az/autos/6825178-lexus-es-300h\n",
       "14975       14975      https://turbo.az/autos/6777087-toyota-corolla\n",
       "\n",
       "[14976 rows x 2 columns]"
      ]
     },
     "execution_count": 9,
     "metadata": {},
     "output_type": "execute_result"
    }
   ],
   "source": [
    "links_personal_auto=pd.read_excel('link_19_11_2022.xlsx')\n",
    "links_personal_auto"
   ]
  },
  {
   "cell_type": "code",
   "execution_count": 12,
   "id": "6ab52f95-5bf3-44ec-9e44-e0d481521f13",
   "metadata": {},
   "outputs": [
    {
     "data": {
      "text/plain": [
       "14976"
      ]
     },
     "execution_count": 12,
     "metadata": {},
     "output_type": "execute_result"
    }
   ],
   "source": [
    "lisa=links_personal_auto[0].values.tolist()\n",
    "len(lisa)"
   ]
  },
  {
   "cell_type": "code",
   "execution_count": 18,
   "id": "c0717097-1dfb-41c7-b337-626032e33a77",
   "metadata": {},
   "outputs": [
    {
     "data": {
      "text/plain": [
       "['https://turbo.az/autos/6741356-land-rover-range-rover',\n",
       " 'https://turbo.az/autos/6474352-opel-crossland-x',\n",
       " 'https://turbo.az/autos/6673637-hyundai-veracruz',\n",
       " 'https://turbo.az/autos/6806177-porsche-panamera',\n",
       " 'https://turbo.az/autos/6627992-mitsubishi-outlander',\n",
       " 'https://turbo.az/autos/6834216-mercedes-c-180',\n",
       " 'https://turbo.az/autos/6791785-toyota-rush',\n",
       " 'https://turbo.az/autos/6814581-opel-astra',\n",
       " 'https://turbo.az/autos/6509248-ford-edge']"
      ]
     },
     "execution_count": 18,
     "metadata": {},
     "output_type": "execute_result"
    }
   ],
   "source": [
    "lisa[:9]"
   ]
  },
  {
   "cell_type": "code",
   "execution_count": 16,
   "id": "f615439a-4bc4-41ad-a0e7-793d78e02284",
   "metadata": {},
   "outputs": [],
   "source": [
    "# link_19_11_2022.to_excel('link_19_11_2022.xlsx', engine='xlsxwriter')"
   ]
  },
  {
   "cell_type": "code",
   "execution_count": 30,
   "id": "bf9a5854-51ec-4f2a-a14f-1f95ec198521",
   "metadata": {},
   "outputs": [
    {
     "name": "stdout",
     "output_type": "stream",
     "text": [
      "CPU times: total: 12min 46s\n",
      "Wall time: 6h 47min 33s\n"
     ]
    },
    {
     "data": {
      "text/html": [
       "<div>\n",
       "<style scoped>\n",
       "    .dataframe tbody tr th:only-of-type {\n",
       "        vertical-align: middle;\n",
       "    }\n",
       "\n",
       "    .dataframe tbody tr th {\n",
       "        vertical-align: top;\n",
       "    }\n",
       "\n",
       "    .dataframe thead th {\n",
       "        text-align: right;\n",
       "    }\n",
       "</style>\n",
       "<table border=\"1\" class=\"dataframe\">\n",
       "  <thead>\n",
       "    <tr style=\"text-align: right;\">\n",
       "      <th></th>\n",
       "      <th>url</th>\n",
       "      <th>salon</th>\n",
       "      <th>person</th>\n",
       "    </tr>\n",
       "  </thead>\n",
       "  <tbody>\n",
       "    <tr>\n",
       "      <th>0</th>\n",
       "      <td>https://turbo.az/autos/6741356-land-rover-rang...</td>\n",
       "      <td>[0553080007, 0552455545, 0552110067, 0558851111]</td>\n",
       "      <td>[]</td>\n",
       "    </tr>\n",
       "    <tr>\n",
       "      <th>1</th>\n",
       "      <td>https://turbo.az/autos/6474352-opel-crossland-x</td>\n",
       "      <td>[0552685545]</td>\n",
       "      <td>[]</td>\n",
       "    </tr>\n",
       "    <tr>\n",
       "      <th>2</th>\n",
       "      <td>https://turbo.az/autos/6673637-hyundai-veracruz</td>\n",
       "      <td>[0125625115, 0504068008, 0506272376]</td>\n",
       "      <td>[]</td>\n",
       "    </tr>\n",
       "    <tr>\n",
       "      <th>3</th>\n",
       "      <td>https://turbo.az/autos/6806177-porsche-panamera</td>\n",
       "      <td>[0559119030, 0503104206, 0703104206, 0502402830]</td>\n",
       "      <td>[]</td>\n",
       "    </tr>\n",
       "    <tr>\n",
       "      <th>4</th>\n",
       "      <td>https://turbo.az/autos/6627992-mitsubishi-outl...</td>\n",
       "      <td>[]</td>\n",
       "      <td>[0554152339]</td>\n",
       "    </tr>\n",
       "    <tr>\n",
       "      <th>...</th>\n",
       "      <td>...</td>\n",
       "      <td>...</td>\n",
       "      <td>...</td>\n",
       "    </tr>\n",
       "    <tr>\n",
       "      <th>14971</th>\n",
       "      <td>https://turbo.az/autos/6825182-kia-rio</td>\n",
       "      <td>[]</td>\n",
       "      <td>[0506070141]</td>\n",
       "    </tr>\n",
       "    <tr>\n",
       "      <th>14972</th>\n",
       "      <td>https://turbo.az/autos/6825179-mercedes-190</td>\n",
       "      <td>[]</td>\n",
       "      <td>[0554450605]</td>\n",
       "    </tr>\n",
       "    <tr>\n",
       "      <th>14973</th>\n",
       "      <td>https://turbo.az/autos/6825173-lada-vaz-niva</td>\n",
       "      <td>[]</td>\n",
       "      <td>[0507365151]</td>\n",
       "    </tr>\n",
       "    <tr>\n",
       "      <th>14974</th>\n",
       "      <td>https://turbo.az/autos/6825178-lexus-es-300h</td>\n",
       "      <td>[0552228844]</td>\n",
       "      <td>[]</td>\n",
       "    </tr>\n",
       "    <tr>\n",
       "      <th>14975</th>\n",
       "      <td>https://turbo.az/autos/6777087-toyota-corolla</td>\n",
       "      <td>[]</td>\n",
       "      <td>[0557967070]</td>\n",
       "    </tr>\n",
       "  </tbody>\n",
       "</table>\n",
       "<p>14976 rows × 3 columns</p>\n",
       "</div>"
      ],
      "text/plain": [
       "                                                     url  \\\n",
       "0      https://turbo.az/autos/6741356-land-rover-rang...   \n",
       "1        https://turbo.az/autos/6474352-opel-crossland-x   \n",
       "2        https://turbo.az/autos/6673637-hyundai-veracruz   \n",
       "3        https://turbo.az/autos/6806177-porsche-panamera   \n",
       "4      https://turbo.az/autos/6627992-mitsubishi-outl...   \n",
       "...                                                  ...   \n",
       "14971             https://turbo.az/autos/6825182-kia-rio   \n",
       "14972        https://turbo.az/autos/6825179-mercedes-190   \n",
       "14973       https://turbo.az/autos/6825173-lada-vaz-niva   \n",
       "14974       https://turbo.az/autos/6825178-lexus-es-300h   \n",
       "14975      https://turbo.az/autos/6777087-toyota-corolla   \n",
       "\n",
       "                                                  salon        person  \n",
       "0      [0553080007, 0552455545, 0552110067, 0558851111]            []  \n",
       "1                                          [0552685545]            []  \n",
       "2                  [0125625115, 0504068008, 0506272376]            []  \n",
       "3      [0559119030, 0503104206, 0703104206, 0502402830]            []  \n",
       "4                                                    []  [0554152339]  \n",
       "...                                                 ...           ...  \n",
       "14971                                                []  [0506070141]  \n",
       "14972                                                []  [0554450605]  \n",
       "14973                                                []  [0507365151]  \n",
       "14974                                      [0552228844]            []  \n",
       "14975                                                []  [0557967070]  \n",
       "\n",
       "[14976 rows x 3 columns]"
      ]
     },
     "execution_count": 30,
     "metadata": {},
     "output_type": "execute_result"
    }
   ],
   "source": [
    "%%time\n",
    "\n",
    "num=[]\n",
    "df=pd.DataFrame()\n",
    "numbers=[]\n",
    "numbers_2=[]\n",
    "for i in range (len(lisa)):\n",
    "    time.sleep(1)\n",
    "    http = urllib3.PoolManager()\n",
    "    content = http.request('GET',lisa[i])\n",
    "    soup=BeautifulSoup(content.data, 'html.parser')\n",
    "    try:\n",
    "        numbers=soup.find_all('a',class_='shop-contact--phones-number',attrs={'href'})\n",
    "        number=re.sub('<[^>]+>' , ' ', str(numbers)).strip().replace('(','').replace('[','').replace(']','').replace(')','').replace(' ', '').replace('-','').split(',')\n",
    "    except:\n",
    "        number=0\n",
    "    try:\n",
    "        numbers_2=soup.find_all('a',class_='phone',attrs={'href'})\n",
    "        number_2=re.sub('<[^>]+>' , ' ', str(numbers_2)).strip().replace('(','').replace('[','').replace(']','').replace(')','').replace(' ', '').replace('-','').split(',')\n",
    "    except:\n",
    "        number=0\n",
    "    num.append({'url':lisa[i],'salon':number,'person':number_2})\n",
    "df=pd.DataFrame(num)        \n",
    "df "
   ]
  },
  {
   "cell_type": "code",
   "execution_count": 34,
   "id": "5da69785-e53e-4099-a8e7-216c1451e535",
   "metadata": {},
   "outputs": [],
   "source": [
    "df.to_excel('numbers_19_11_2022.xlsx', engine='xlsxwriter')"
   ]
  },
  {
   "cell_type": "code",
   "execution_count": null,
   "id": "add267b3-915d-4596-a6be-f9e22c1daee0",
   "metadata": {},
   "outputs": [],
   "source": []
  },
  {
   "cell_type": "code",
   "execution_count": 37,
   "id": "93e158b2-b585-433c-b491-c1f3613a517a",
   "metadata": {},
   "outputs": [],
   "source": [
    "person=pd.DataFrame({'number':list(itertools.chain.from_iterable(df['person']))})"
   ]
  },
  {
   "cell_type": "code",
   "execution_count": 39,
   "id": "7bb1cb01-5c54-441d-8a26-4431b4a81d29",
   "metadata": {},
   "outputs": [],
   "source": [
    "person.to_excel('person.xlsx', engine='xlsxwriter')"
   ]
  },
  {
   "cell_type": "code",
   "execution_count": 38,
   "id": "977ab50c-d2ab-45f9-bac5-877b82316b8d",
   "metadata": {},
   "outputs": [],
   "source": [
    "salon=pd.DataFrame({'number':list(itertools.chain.from_iterable(df['salon']))})"
   ]
  },
  {
   "cell_type": "code",
   "execution_count": 40,
   "id": "72f141f2-7f82-450f-ab61-776813eeb088",
   "metadata": {},
   "outputs": [],
   "source": [
    "salon.to_excel('salon.xlsx', engine='xlsxwriter')"
   ]
  },
  {
   "cell_type": "code",
   "execution_count": null,
   "id": "1cd1f8a3-8988-4245-94a3-d0656f7eb333",
   "metadata": {},
   "outputs": [],
   "source": []
  },
  {
   "cell_type": "code",
   "execution_count": null,
   "id": "dbe0dcb2-1311-4dbe-ba61-80b487615aeb",
   "metadata": {},
   "outputs": [],
   "source": []
  },
  {
   "cell_type": "code",
   "execution_count": null,
   "id": "10b0be42-d6b8-4008-8205-4daa4923e2c6",
   "metadata": {},
   "outputs": [],
   "source": []
  },
  {
   "cell_type": "code",
   "execution_count": null,
   "id": "43aa7be0-cfd0-4ff1-a2de-c220aa313811",
   "metadata": {},
   "outputs": [],
   "source": []
  },
  {
   "cell_type": "code",
   "execution_count": null,
   "id": "b7d1107d-ee74-4fe1-8184-2e68a34e37bf",
   "metadata": {},
   "outputs": [],
   "source": []
  },
  {
   "cell_type": "code",
   "execution_count": null,
   "id": "905170f7-772f-442a-976e-57ea000a40a6",
   "metadata": {},
   "outputs": [],
   "source": []
  },
  {
   "cell_type": "code",
   "execution_count": null,
   "id": "201439b9-8cd7-400b-b9b3-96a4935b41e8",
   "metadata": {},
   "outputs": [],
   "source": []
  },
  {
   "cell_type": "code",
   "execution_count": null,
   "id": "c3bef84f-c985-4bfb-b778-6a4b1d92d9ea",
   "metadata": {},
   "outputs": [],
   "source": []
  },
  {
   "cell_type": "code",
   "execution_count": null,
   "id": "28c79000-1914-4d71-8fcb-09060b57489e",
   "metadata": {},
   "outputs": [],
   "source": []
  },
  {
   "cell_type": "code",
   "execution_count": null,
   "id": "52e7da42-77f9-419b-8ba6-0be2d4c87ebd",
   "metadata": {},
   "outputs": [],
   "source": []
  },
  {
   "cell_type": "code",
   "execution_count": null,
   "id": "e6c5ea55-7de4-4042-8505-0936c6d4f8fd",
   "metadata": {},
   "outputs": [],
   "source": []
  },
  {
   "cell_type": "code",
   "execution_count": null,
   "id": "874174a6-1b7d-4230-89c4-52ec5c3ce51b",
   "metadata": {},
   "outputs": [],
   "source": []
  },
  {
   "cell_type": "code",
   "execution_count": null,
   "id": "d8ee2ef1-3e30-4b79-9cf7-6a51a0a51b6d",
   "metadata": {},
   "outputs": [],
   "source": []
  },
  {
   "cell_type": "code",
   "execution_count": null,
   "id": "d9c37f85-29d1-40ba-b19e-d719c7331b0b",
   "metadata": {},
   "outputs": [],
   "source": []
  },
  {
   "cell_type": "code",
   "execution_count": null,
   "id": "fbf2db1c-1f71-4081-9250-2b3f731b84d6",
   "metadata": {},
   "outputs": [],
   "source": []
  },
  {
   "cell_type": "code",
   "execution_count": null,
   "id": "3cb90783-cc5c-4da8-a88c-bf58dde48fe0",
   "metadata": {},
   "outputs": [],
   "source": []
  },
  {
   "cell_type": "code",
   "execution_count": null,
   "id": "059a528d-dcab-4b73-85de-4b219fc12b13",
   "metadata": {},
   "outputs": [],
   "source": []
  },
  {
   "cell_type": "code",
   "execution_count": null,
   "id": "49c14bb6-f968-4564-a7a0-61c290c7fa90",
   "metadata": {},
   "outputs": [],
   "source": []
  }
 ],
 "metadata": {
  "kernelspec": {
   "display_name": "Python 3 (ipykernel)",
   "language": "python",
   "name": "python3"
  },
  "language_info": {
   "codemirror_mode": {
    "name": "ipython",
    "version": 3
   },
   "file_extension": ".py",
   "mimetype": "text/x-python",
   "name": "python",
   "nbconvert_exporter": "python",
   "pygments_lexer": "ipython3",
   "version": "3.9.7"
  }
 },
 "nbformat": 4,
 "nbformat_minor": 5
}
